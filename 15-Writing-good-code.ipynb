{
 "cells": [
  {
   "attachments": {},
   "cell_type": "markdown",
   "metadata": {},
   "source": [
    "### An Example of Poor Code"
   ]
  },
  {
   "cell_type": "code",
   "execution_count": null,
   "metadata": {},
   "outputs": [],
   "source": [
    "%matplotlib inline\n",
    "import numpy as np\n",
    "import matplotlib.pyplot as plt\n",
    "\n",
    "plt.rcParams['figure.figsize'] = (10,6)\n",
    "\n",
    "# Allocate memory for time series\n",
    "k = np.empty(50)\n",
    "fig, axes = plt.subplots(3, 1, figsize=(8, 16))\n",
    "\n",
    "# Trajectories with different α\n",
    "δ = 0.1\n",
    "s = 0.4\n",
    "α = (0.25, 0.33, 0.45)\n",
    "\n",
    "for j in range(3):\n",
    "    k[0] = 1\n",
    "    for t in range(49):\n",
    "        k[t+1] = s * k[t]**α[j] + (1 - δ) * k[t]\n",
    "\n",
    "axes[0].plot(k, 'o-', label=rf\"$\\alpha = {α[j]},\\; s = {s},\\; \\delta={δ}$\")\n",
    "axes[0].grid(lw=0.2)\n",
    "axes[0].set_ylim(0, 18)\n",
    "axes[0].set_xlabel('time')\n",
    "axes[0].set_ylabel('capital')\n",
    "axes[0].legend(loc = 'upper left', frameon = True)\n",
    "\n",
    "# Trajectories with different s\n",
    "δ = 0.1\n",
    "α = 0.33\n",
    "s = (0.3, 0.4, 0.5)\n",
    "\n",
    "for j in range(3):\n",
    "    k[0] = 1\n",
    "    \n",
    "    for t in range(49):\n",
    "        k[t+1] = s[j] * k[t]**α + (1 - δ) * k[t]\n",
    "\n",
    "axes[1].plot(k, 'o-', label=rf\"$\\alpha = {α},\\; s = {s[j]},\\; \\delta={δ}$\")\n",
    "axes[1].grid(lw=0.2)\n",
    "axes[1].set_xlabel('time')\n",
    "axes[1].set_ylabel('capital')\n",
    "axes[1].set_ylim(0, 18)\n",
    "axes[1].legend(loc = 'upper left', frameon = True)\n",
    "\n",
    "# Trajectories with different δ\n",
    "δ = (0.05, 0.1, 0.15)\n",
    "α = 0.33\n",
    "s = 0.4\n",
    "\n",
    "for j in range(3):\n",
    "    k[0] = 1\n",
    "    for t in range(49):\n",
    "        k[t+1] = s * k[t]**α + (1 - δ[j]) * k[t]\n",
    "\n",
    "axes[2].plot(k, 'o-', label=rf\"$\\alpha = {α},\\; s = {s},\\; \\delta={δ[j]}$\")\n",
    "axes[2].set_ylim(0, 18)\n",
    "axes[2].set_xlabel('time')\n",
    "axes[2].set_ylabel('capital')\n",
    "axes[2].grid(lw = 0.2)\n",
    "axes[2].legend(loc = 'upper left', frameon = True)\n",
    "\n",
    "plt.show()"
   ]
  },
  {
   "attachments": {},
   "cell_type": "markdown",
   "metadata": {},
   "source": [
    "### Revisiting the Example"
   ]
  },
  {
   "cell_type": "code",
   "execution_count": null,
   "metadata": {},
   "outputs": [],
   "source": [
    "from itertools import product\n",
    "\n",
    "def plot_path(ax, αs, s_vals, δs, time_series_length=50):\n",
    "    \"\"\"\n",
    "    Add a time series plot to the axes ax for all given parameters.\n",
    "    \"\"\"\n",
    "    \n",
    "    k = np.empty(time_series_length)\n",
    "    for (α, s, δ) in product(αs, s_vals, δs):\n",
    "        k[0] = 1\n",
    "        \n",
    "        for t in range(time_series_length-1):\n",
    "            k[t+1] = s * k[t]**α + (1 - δ) * k[t]\n",
    "        \n",
    "        ax.plot(k, 'o-', label=rf\"$\\alpha = {α},\\; s = {s},\\; \\delta = {δ}$\")\n",
    "    \n",
    "    ax.set_xlabel('time')\n",
    "    ax.set_ylabel('capital')\n",
    "    ax.set_ylim(0, 18)\n",
    "    ax.legend(loc = 'upper left', frameon = True)\n",
    "\n",
    "fig, axes = plt.subplots(3, 1, figsize=(8, 16))\n",
    "\n",
    "# Parameters (αs, s_vals, δs)\n",
    "set_one = ([0.25, 0.33, 0.45], [0.4], [0.1])\n",
    "set_two = ([0.33], [0.3, 0.4, 0.5], [0.1])\n",
    "set_three = ([0.33], [0.4], [0.05, 0.1, 0.15])\n",
    "\n",
    "for (ax, params) in zip(axes, (set_one, set_two, set_three)):\n",
    "    αs, s_vals, δs = params\n",
    "    plot_path(ax, αs, s_vals, δs)\n",
    "\n",
    "plt.show()"
   ]
  },
  {
   "attachments": {},
   "cell_type": "markdown",
   "metadata": {},
   "source": [
    "### Exercises"
   ]
  },
  {
   "cell_type": "code",
   "execution_count": null,
   "metadata": {},
   "outputs": [],
   "source": []
  },
  {
   "cell_type": "code",
   "execution_count": null,
   "metadata": {},
   "outputs": [],
   "source": []
  },
  {
   "cell_type": "code",
   "execution_count": null,
   "metadata": {},
   "outputs": [],
   "source": []
  },
  {
   "cell_type": "code",
   "execution_count": null,
   "metadata": {},
   "outputs": [],
   "source": []
  }
 ],
 "metadata": {
  "language_info": {
   "name": "python"
  },
  "orig_nbformat": 4
 },
 "nbformat": 4,
 "nbformat_minor": 2
}
