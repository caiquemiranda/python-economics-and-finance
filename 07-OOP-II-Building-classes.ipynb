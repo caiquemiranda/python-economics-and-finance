{
 "cells": [
  {
   "cell_type": "code",
   "execution_count": null,
   "metadata": {},
   "outputs": [],
   "source": [
    "%matplotlib inline\n",
    "import numpy as np\n",
    "import matplotlib.pyplot as plt\n",
    "\n",
    "plt.rcParams['figure.figsize'] = (10,6)"
   ]
  },
  {
   "cell_type": "code",
   "execution_count": null,
   "metadata": {},
   "outputs": [],
   "source": [
    "x = [1, 5, 4]\n",
    "x.sort()\n",
    "x"
   ]
  },
  {
   "cell_type": "code",
   "execution_count": null,
   "metadata": {},
   "outputs": [],
   "source": [
    "x = [1, 5, 4]\n",
    "x.sort()\n",
    "x.__class__"
   ]
  },
  {
   "attachments": {},
   "cell_type": "markdown",
   "metadata": {},
   "source": [
    "### Defining Your Own Classes"
   ]
  },
  {
   "cell_type": "code",
   "execution_count": null,
   "metadata": {},
   "outputs": [],
   "source": [
    "def earn(w,y):\n",
    "    \"Consumer with inital wealth w earns y\"\n",
    "    return w+y\n",
    "\n",
    "def spend(w,x):\n",
    "    \"consumer with initial wealth w spends x\"\n",
    "    \n",
    "    new_wealth = w -x\n",
    "    \n",
    "    if new_wealth < 0:\n",
    "        print(\"Insufficient funds\")\n",
    "    else:\n",
    "        return new_wealth"
   ]
  },
  {
   "cell_type": "code",
   "execution_count": null,
   "metadata": {},
   "outputs": [],
   "source": [
    "w0 = 100\n",
    "\n",
    "w1 = earn(w0, 10)\n",
    "w2 = spend(w1, 20)\n",
    "w3 = earn(w2, 10)\n",
    "w4 = spend(w3, 20)\n",
    "\n",
    "print(\"w0, w1, w2, w3, w4 = \", w0, w1, w2, w3, w4)"
   ]
  },
  {
   "attachments": {},
   "cell_type": "markdown",
   "metadata": {},
   "source": [
    "#### Example: A Consumer Class"
   ]
  },
  {
   "cell_type": "code",
   "execution_count": null,
   "metadata": {},
   "outputs": [],
   "source": [
    "class Consumer:\n",
    "    \n",
    "    def __init__(self, w):\n",
    "        \"Initialize consumer with w dollars of wealth\"\n",
    "    \n",
    "        self.wealth = w\n",
    "    \n",
    "    def earn(self, y):\n",
    "        \"The consumer earns y dollars\"\n",
    "    \n",
    "        self.wealth += y\n",
    "    \n",
    "    def spend(self, x):\n",
    "        \"The consumer spends x dollars if feasible\"\n",
    "    \n",
    "        new_wealth = self.wealth - x\n",
    "    \n",
    "        if new_wealth < 0:\n",
    "            print(\"Insufficent funds\")\n",
    "        else:\n",
    "            self.wealth = new_wealth"
   ]
  },
  {
   "cell_type": "code",
   "execution_count": null,
   "metadata": {},
   "outputs": [],
   "source": [
    "c1 = Consumer(10) # Create instance with initial wealth 10\n",
    "c1.spend(5)\n",
    "c1.wealth"
   ]
  },
  {
   "cell_type": "code",
   "execution_count": null,
   "metadata": {},
   "outputs": [],
   "source": [
    "c1.earn(15)\n",
    "c1.spend(100)"
   ]
  },
  {
   "cell_type": "code",
   "execution_count": null,
   "metadata": {},
   "outputs": [],
   "source": [
    "c1 = Consumer(10)\n",
    "c2 = Consumer(12)\n",
    "c2.spend(4)\n",
    "c2.wealth"
   ]
  },
  {
   "cell_type": "code",
   "execution_count": null,
   "metadata": {},
   "outputs": [],
   "source": [
    "c1.wealth"
   ]
  },
  {
   "cell_type": "code",
   "execution_count": null,
   "metadata": {},
   "outputs": [],
   "source": [
    "c1.__dict__"
   ]
  },
  {
   "cell_type": "code",
   "execution_count": null,
   "metadata": {},
   "outputs": [],
   "source": [
    "c2.__dict__"
   ]
  },
  {
   "cell_type": "code",
   "execution_count": null,
   "metadata": {},
   "outputs": [],
   "source": [
    "print(Consumer.__dict__) # Show __dict__ attribute of class object"
   ]
  },
  {
   "cell_type": "code",
   "execution_count": null,
   "metadata": {},
   "outputs": [],
   "source": [
    "c1 = Consumer(10)\n",
    "c1.earn(10)\n",
    "c1.wealth"
   ]
  },
  {
   "cell_type": "code",
   "execution_count": null,
   "metadata": {},
   "outputs": [],
   "source": [
    "def earn(self, y):\n",
    "    \"The consumer earns y dollars\"\n",
    "    \n",
    "    self.wealth += y"
   ]
  },
  {
   "attachments": {},
   "cell_type": "markdown",
   "metadata": {},
   "source": [
    "#### Example: The Solow Growth Model"
   ]
  },
  {
   "cell_type": "code",
   "execution_count": null,
   "metadata": {},
   "outputs": [],
   "source": [
    "class Solow:\n",
    "    r\"\"\"\n",
    "    Implements the Solow growth model with the update rule  \n",
    "    k_{t+1} = [(s z k^α_t) + (1 - δ)k_t] /(1 + n)\n",
    "    \"\"\"\n",
    "    \n",
    "    def __init__(self, n=0.05, # population growth rate\n",
    "                 s=0.25, # savings rate\n",
    "                 δ=0.1, # depreciation rate\n",
    "                 α=0.3, # share of labor\n",
    "                 z=2.0, # productivity\n",
    "                 k=1.0): # current capital stock\n",
    "        self.n, self.s, self.δ, self.α,\n",
    "        self.z = n, s, δ, α, z\n",
    "        self.k = k\n",
    "\n",
    "    def h(self):\n",
    "        \"Evaluate the h function\"\n",
    "        \n",
    "        # Unpack parameters (get rid of self to simplify notation)\n",
    "        n, s, δ, α, z = self.n, self.s, self.δ, self.α, self.z\n",
    "        \n",
    "        # Apply the update rule\n",
    "        return (s * z * self.k**α + (1 - δ) * self.k) / (1 + n)\n",
    "\n",
    "    def update(self):\n",
    "        \"Update the current state (i.e., the capital stock).\"\n",
    "        \n",
    "        self.k = self.h()\n",
    "    \n",
    "    def steady_state(self):\n",
    "        \"Compute the steady state value of capital.\"\n",
    "    \n",
    "        # Unpack parameters (get rid of self to simplify notation)\n",
    "        n, s, δ, α, z = self.n, self.s, self.δ, self.α, self.z\n",
    "    \n",
    "        # Compute and return steady state\n",
    "        return ((s * z) / (n + δ))**(1 / (1 - α))\n",
    "\n",
    "    def generate_sequence(self, t):\n",
    "        \"Generate and return a time series of length t\"\n",
    "    \n",
    "        path = []\n",
    "        \n",
    "        for i in range(t):\n",
    "            path.append(self.k)\n",
    "            self.update()\n",
    "        \n",
    "        return path"
   ]
  },
  {
   "cell_type": "code",
   "execution_count": null,
   "metadata": {},
   "outputs": [],
   "source": [
    "s1 = Solow()\n",
    "s2 = Solow(k=8.0)\n",
    "T = 60\n",
    "\n",
    "fig, ax = plt.subplots(figsize=(9, 6))\n",
    "\n",
    "# Plot the common steady state value of capital\n",
    "ax.plot([s1.steady_state()]*T, 'k-', label='steady state')\n",
    "\n",
    "# Plot time series for each economy\n",
    "for s in s1, s2:\n",
    "    lb = f'capital series from initial state {s.k}'\n",
    "\n",
    "ax.plot(s.generate_sequence(T), 'o-', lw=2, alpha=0.6, label=lb)\n",
    "ax.set_xlabel('$t$', fontsize=14)\n",
    "ax.set_ylabel('$k_t$', fontsize=14)\n",
    "ax.legend()\n",
    "plt.show()"
   ]
  },
  {
   "attachments": {},
   "cell_type": "markdown",
   "metadata": {},
   "source": [
    "#### Example: A Market"
   ]
  },
  {
   "cell_type": "code",
   "execution_count": null,
   "metadata": {},
   "outputs": [],
   "source": [
    "from scipy.integrate import quad\n",
    "\n",
    "class Market:\n",
    "def __init__(self, ad, bd, az, bz, tax):\n",
    "\"\"\"\n",
    "Set up market parameters. All parameters are scalars. See\n",
    "https://lectures.quantecon.org/py/python_oop.html for interpretation.\n",
    "\"\"\"\n",
    "self.ad, self.bd, self.az, self.bz, self.tax = ad, bd, az, bz, tax\n",
    "if ad < az:\n",
    "raise ValueError('Insufficient demand.')\n",
    "def price(self):\n",
    "\"Compute equilibrium price\"\n",
    "return (self.ad - self.az + self.bz * self.tax) / (self.bd + self.bz)\n",
    "def quantity(self):\n",
    "\"Compute equilibrium quantity\"\n",
    "return self.ad - self.bd * self.price()\n",
    "def consumer_surp(self):\n",
    "\"Compute consumer surplus\"\n",
    "# == Compute area under inverse demand function == #\n",
    "integrand = lambda x: (self.ad / self.bd) - (1 / self.bd) * x\n",
    "area, error = quad(integrand, 0, self.quantity())\n",
    "return area - self.price() * self.quantity()\n",
    "def producer_surp(self):\n",
    "\"Compute producer surplus\"\n",
    "# == Compute area above inverse supply curve, excluding tax == #\n",
    "integrand = lambda x: -(self.az / self.bz) + (1 / self.bz) * x\n",
    "area, error = quad(integrand, 0, self.quantity())\n",
    "return (self.price() - self.tax) * self.quantity() - area\n",
    "def taxrev(self):\n",
    "\"Compute tax revenue\"\n",
    "return self.tax * self.quantity()\n",
    "def inverse_demand(self, x):\n",
    "\"Compute inverse demand\"\n",
    "return self.ad / self.bd - (1 / self.bd)* x\n",
    "def inverse_supply(self, x):\n",
    "\"Compute inverse supply curve\"\n",
    "return -(self.az / self.bz) + (1 / self.bz) * x + self.tax\n",
    "def inverse_supply_no_tax(self, x):\n",
    "\"Compute inverse supply curve without tax\"\n",
    "return -(self.az / self.bz) + (1 / self.bz) * x"
   ]
  },
  {
   "cell_type": "code",
   "execution_count": null,
   "metadata": {},
   "outputs": [],
   "source": [
    "baseline_params = 15, .5, -2, .5, 3\n",
    "m = Market(*baseline_params)\n",
    "print(\"equilibrium price = \", m.price())"
   ]
  },
  {
   "cell_type": "code",
   "execution_count": null,
   "metadata": {},
   "outputs": [],
   "source": [
    "print(\"consumer surplus = \", m.consumer_surp())"
   ]
  },
  {
   "cell_type": "code",
   "execution_count": null,
   "metadata": {},
   "outputs": [],
   "source": [
    "# Baseline ad, bd, az, bz, tax\n",
    "baseline_params = 15, .5, -2, .5, 3\n",
    "m = Market(*baseline_params)\n",
    "q_max = m.quantity() * 2\n",
    "q_grid = np.linspace(0.0, q_max, 100)\n",
    "pd = m.inverse_demand(q_grid)\n",
    "ps = m.inverse_supply(q_grid)\n",
    "psno = m.inverse_supply_no_tax(q_grid)\n",
    "fig, ax = plt.subplots()\n",
    "ax.plot(q_grid, pd, lw=2, alpha=0.6, label='demand')\n",
    "ax.plot(q_grid, ps, lw=2, alpha=0.6, label='supply')\n",
    "ax.plot(q_grid, psno, '--k', lw=2, alpha=0.6, label='supply without tax')\n",
    "ax.set_xlabel('quantity', fontsize=14)\n",
    "ax.set_xlim(0, q_max)\n",
    "ax.set_ylabel('price', fontsize=14)\n",
    "ax.legend(loc='lower right', frameon=False, fontsize=14)\n",
    "plt.show()"
   ]
  },
  {
   "cell_type": "code",
   "execution_count": null,
   "metadata": {},
   "outputs": [],
   "source": [
    "def deadw(m):\n",
    "\"Computes deadweight loss for market m.\"\n",
    "# == Create analogous market with no tax == #\n",
    "m_no_tax = Market(m.ad, m.bd, m.az, m.bz, 0)\n",
    "# == Compare surplus, return difference == #\n",
    "surp1 = m_no_tax.consumer_surp() + m_no_tax.producer_surp()\n",
    "surp2 = m.consumer_surp() + m.producer_surp() + m.taxrev()\n",
    "return surp1 - surp2"
   ]
  },
  {
   "cell_type": "code",
   "execution_count": null,
   "metadata": {},
   "outputs": [],
   "source": [
    "baseline_params = 15, .5, -2, .5, 3\n",
    "m = Market(*baseline_params)\n",
    "deadw(m) # Show deadweight loss"
   ]
  },
  {
   "attachments": {},
   "cell_type": "markdown",
   "metadata": {},
   "source": [
    "### Example: Chaos"
   ]
  },
  {
   "cell_type": "code",
   "execution_count": null,
   "metadata": {},
   "outputs": [],
   "source": []
  },
  {
   "cell_type": "code",
   "execution_count": null,
   "metadata": {},
   "outputs": [],
   "source": []
  },
  {
   "cell_type": "code",
   "execution_count": null,
   "metadata": {},
   "outputs": [],
   "source": []
  },
  {
   "cell_type": "code",
   "execution_count": null,
   "metadata": {},
   "outputs": [],
   "source": []
  },
  {
   "attachments": {},
   "cell_type": "markdown",
   "metadata": {},
   "source": [
    "### End."
   ]
  }
 ],
 "metadata": {
  "kernelspec": {
   "display_name": "Python 3",
   "language": "python",
   "name": "python3"
  },
  "language_info": {
   "name": "python",
   "version": "3.10.5"
  },
  "orig_nbformat": 4,
  "vscode": {
   "interpreter": {
    "hash": "74af3d2f25f1e46ebd2903d59225d79e4675ec224d56c01fc30cd168c2010d53"
   }
  }
 },
 "nbformat": 4,
 "nbformat_minor": 2
}
