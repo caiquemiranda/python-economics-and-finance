{
 "cells": [
  {
   "attachments": {},
   "cell_type": "markdown",
   "metadata": {},
   "source": [
    "### Numerical Programming"
   ]
  },
  {
   "cell_type": "code",
   "execution_count": null,
   "metadata": {},
   "outputs": [],
   "source": [
    "import numpy as np                   # Load the library\n",
    "a = np.linspace(-np.pi, np.pi, 100)  # Create even grid from -π to π\n",
    "b = np.cos(a)                        # Apply cosine to each element of a\n",
    "c = np.sin(a)                        # Apply sin to each element of a"
   ]
  },
  {
   "cell_type": "code",
   "execution_count": null,
   "metadata": {},
   "outputs": [],
   "source": [
    "b @ c"
   ]
  },
  {
   "cell_type": "code",
   "execution_count": null,
   "metadata": {},
   "outputs": [],
   "source": [
    "from scipy.stats import norm\n",
    "from scipy.integrate import quad\n",
    "\n",
    "ϕ = norm()\n",
    "value, error = quad(ϕ.pdf, -2, 2) # Integrate using Gaussian quadrature\n",
    "value"
   ]
  },
  {
   "attachments": {},
   "cell_type": "markdown",
   "metadata": {},
   "source": [
    "SciPy includes many of the standard routines used in:\n",
    "\n",
    "- linear algebra\n",
    "- integration\n",
    "- interpolation\n",
    "- optimization\n",
    "- distributions and statistical techniques\n",
    "- signal processing"
   ]
  },
  {
   "attachments": {},
   "cell_type": "markdown",
   "metadata": {},
   "source": [
    "### Symbolic Algebra"
   ]
  },
  {
   "cell_type": "code",
   "execution_count": null,
   "metadata": {},
   "outputs": [],
   "source": [
    "from sympy import Symbol\n",
    "\n",
    "x, y = Symbol('x'), Symbol('y') # Treat 'x' and 'y' as algebraic symbols\n",
    "x + x + x + y"
   ]
  },
  {
   "cell_type": "code",
   "execution_count": null,
   "metadata": {},
   "outputs": [],
   "source": [
    "expression = (x + y)**2\n",
    "expression.expand()"
   ]
  },
  {
   "cell_type": "code",
   "execution_count": null,
   "metadata": {},
   "outputs": [],
   "source": [
    "from sympy import solve\n",
    "solve(x**2 + x + 2)"
   ]
  },
  {
   "cell_type": "code",
   "execution_count": null,
   "metadata": {},
   "outputs": [],
   "source": [
    "from sympy import limit, sin, diff, integrate\n",
    "limit(1 / x, x, 0)"
   ]
  },
  {
   "cell_type": "code",
   "execution_count": null,
   "metadata": {},
   "outputs": [],
   "source": [
    "limit(sin(x) / x, x, 0)"
   ]
  },
  {
   "cell_type": "code",
   "execution_count": null,
   "metadata": {},
   "outputs": [],
   "source": [
    "diff(sin(x), x)"
   ]
  },
  {
   "cell_type": "code",
   "execution_count": null,
   "metadata": {},
   "outputs": [],
   "source": [
    "integrate(sin(x) * x, x)"
   ]
  },
  {
   "attachments": {},
   "cell_type": "markdown",
   "metadata": {},
   "source": [
    "### Statistics"
   ]
  },
  {
   "cell_type": "code",
   "execution_count": null,
   "metadata": {},
   "outputs": [],
   "source": [
    "import pandas as pd\n",
    "\n",
    "np.random.seed(1234)\n",
    "\n",
    "data = np.random.randn(5, 2) # 5x2 matrix of N(0, 1) random draws\n",
    "dates = pd.date_range('2010-12-28', periods=5)\n",
    "df = pd.DataFrame(data, columns=('price', 'weight'), index=dates)\n",
    "\n",
    "print(df)"
   ]
  },
  {
   "cell_type": "code",
   "execution_count": null,
   "metadata": {},
   "outputs": [],
   "source": [
    "df.mean()"
   ]
  },
  {
   "attachments": {},
   "cell_type": "markdown",
   "metadata": {},
   "source": [
    "### Networks and Graphs"
   ]
  },
  {
   "cell_type": "code",
   "execution_count": null,
   "metadata": {},
   "outputs": [],
   "source": [
    "%matplotlib inline\n",
    "import networkx as nx\n",
    "import matplotlib.pyplot as plt\n",
    "\n",
    "plt.rcParams['figure.figsize'] = (10,6)\n",
    "np.random.seed(1234)\n",
    "\n",
    "# Generate a random graph\n",
    "p = dict((i, (np.random.uniform(0, 1), np.random.uniform(0, 1)))\n",
    "for i in range(200))\n",
    "g = nx.random_geometric_graph(200, 0.12, pos=p)\n",
    "pos = nx.get_node_attributes(g, 'pos')\n",
    "\n",
    "# Find node nearest the center point (0.5, 0.5)\n",
    "dists = [(x - 0.5)**2 + (y - 0.5)**2 for x, y in list(pos.values())]\n",
    "ncenter = np.argmin(dists)\n",
    "\n",
    "# Plot graph, coloring by path length from central node\n",
    "p = nx.single_source_shortest_path_length(g, ncenter)\n",
    "\n",
    "plt.figure()\n",
    "nx.draw_networkx_edges(g, pos, alpha=0.4)\n",
    "nx.draw_networkx_nodes(g,\n",
    "                       pos,\n",
    "                       nodelist=list(p.keys())\n",
    "                       node_size=120, alpha=0.5,\n",
    "                       node_color=list(p.values()),\n",
    "                       cmap=plt.cm.jet_r)\n",
    "plt.show()"
   ]
  },
  {
   "attachments": {},
   "cell_type": "markdown",
   "metadata": {},
   "source": [
    "### End."
   ]
  }
 ],
 "metadata": {
  "language_info": {
   "name": "python"
  },
  "orig_nbformat": 4
 },
 "nbformat": 4,
 "nbformat_minor": 2
}
